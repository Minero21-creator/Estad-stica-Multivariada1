{
  "nbformat": 4,
  "nbformat_minor": 0,
  "metadata": {
    "colab": {
      "provenance": []
    },
    "kernelspec": {
      "name": "python3",
      "display_name": "Python 3"
    },
    "language_info": {
      "name": "python"
    }
  },
  "cells": [
    {
      "cell_type": "code",
      "execution_count": 1,
      "metadata": {
        "colab": {
          "base_uri": "https://localhost:8080/"
        },
        "id": "ZrszRvj9zNmP",
        "outputId": "5dadf076-9e0b-4618-c284-79703ba865ff"
      },
      "outputs": [
        {
          "output_type": "stream",
          "name": "stdout",
          "text": [
            "Puntajes del primer componente principal: [-0.407939 -1.407939 -0.407939  2.224524]\n",
            "Proporción de varianza explicada (PVE): 0.6053723831966753\n"
          ]
        }
      ],
      "source": [
        "import numpy as np\n",
        "\n",
        "# Dado los datos\n",
        "X = np.array([\n",
        "    [-0.577, 1, -1],\n",
        "    [-0.577, 1, 1],\n",
        "    [-0.577, -1, 1],\n",
        "    [1.732, -1, -1]\n",
        "])\n",
        "\n",
        "# Primer vector de carga del componente principal\n",
        "phi_1 = np.array([0.707, -0.500, -0.500])\n",
        "\n",
        "# Calcula los puntajes del primer componente principal para todas las observaciones\n",
        "z_1_all = np.dot(X, phi_1)\n",
        "\n",
        "# Calcula la varianza explicada por el primer componente principal\n",
        "variance_explained_z1_all = np.var(z_1_all)\n",
        "total_variance_all = np.var(X, axis=0).sum()\n",
        "\n",
        "# Proporción de varianza explicada (PVE)\n",
        "PVE_1_all = variance_explained_z1_all / total_variance_all\n",
        "\n",
        "# Imprime los resultados\n",
        "print(\"Puntajes del primer componente principal:\", z_1_all)\n",
        "print(\"Proporción de varianza explicada (PVE):\", PVE_1_all)"
      ]
    },
    {
      "cell_type": "markdown",
      "source": [
        "Resultados y análisis de cada inciso:\n",
        "\n",
        "\t1.\tInciso (A): Menos del 53%.\n",
        "\t•\tLa PVE calculada es aproximadamente 0.6054, lo que corresponde al 60.54%, por lo tanto, esta opción es incorrecta.\n",
        "\t2.\tInciso (B): Al menos 53% pero menos del 58%.\n",
        "\t•\tLa PVE es 60.54%, lo que es mayor que el 58%, por lo que esta opción también es incorrecta.\n",
        "\t3.\tInciso (C): Al menos 58% pero menos del 63%.\n",
        "\t•\tLa PVE de 60.54% cae dentro de este rango, así que esta opción es correcta.\n",
        "\t4.\tInciso (D): Al menos 63% pero menos del 68%.\n",
        "\t•\tLa PVE es menor al 63%, por lo tanto, esta opción es incorrecta.\n",
        "\t5.\tInciso (E): Al menos 68%.\n",
        "\t•\tLa PVE es menor al 68%, por lo tanto, esta opción es incorrecta."
      ],
      "metadata": {
        "id": "CxGBHEerLUXX"
      }
    },
    {
      "cell_type": "code",
      "source": [
        "import numpy as np\n",
        "\n",
        "# Dado los datos\n",
        "X_obs = np.array([\n",
        "    [-2, 2],\n",
        "    [2, -2]\n",
        "])\n",
        "\n",
        "# Primer vector de carga del componente principal\n",
        "phi_1_obs = np.array([0.7071, -0.7071])\n",
        "\n",
        "# Calcula los puntajes del primer componente principal para ambas observaciones\n",
        "z_1_all_obs = np.dot(X_obs, phi_1_obs)\n",
        "\n",
        "# Imprime los resultados\n",
        "print(\"Puntajes del primer componente principal para las observaciones:\", z_1_all_obs)"
      ],
      "metadata": {
        "colab": {
          "base_uri": "https://localhost:8080/"
        },
        "id": "ctbJQAYbzVAk",
        "outputId": "80dc0500-6521-4d8b-a2d1-6c137640f97b"
      },
      "execution_count": null,
      "outputs": [
        {
          "output_type": "stream",
          "name": "stdout",
          "text": [
            "Puntajes del primer componente principal para las observaciones: [-2.8284  2.8284]\n"
          ]
        }
      ]
    },
    {
      "cell_type": "markdown",
      "source": [
        "Análisis de cada inciso:\n",
        "\n",
        "\t1.\tInciso (A): -3.\n",
        "\t•\tEl puntaje calculado para la Observación 1 es -2.8284, que redondeado a la opción más cercana es -3. Esta opción es correcta.\n",
        "\t2.\tInciso (B): -1.\n",
        "\t•\tEl puntaje es mucho más bajo que -1, por lo que esta opción es incorrecta.\n",
        "\t3.\tInciso (C): 0.\n",
        "\t•\tEl puntaje es negativo, por lo tanto, esta opción es incorrecta.\n",
        "\t4.\tInciso (D): 1.\n",
        "\t•\tEl puntaje es negativo, por lo tanto, esta opción es incorrecta.\n",
        "\t5.\tInciso (E): 3.\n",
        "\t•\tEl puntaje es negativo, no positivo, por lo tanto, esta opción es incorrecta.\n"
      ],
      "metadata": {
        "id": "Z-fdDe5TLkaz"
      }
    }
  ]
}